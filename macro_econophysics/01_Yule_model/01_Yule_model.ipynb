{
 "cells": [
  {
   "cell_type": "markdown",
   "metadata": {},
   "source": [
    "## Yule 1925 model"
   ]
  },
  {
   "cell_type": "markdown",
   "metadata": {},
   "source": [
    "### 概要"
   ]
  },
  {
   "cell_type": "markdown",
   "metadata": {},
   "source": [
    "種形成とは種は時間変化し大きな逸脱が新種の発生をもたらすと考えるモデル。  \n",
    "最初は1つの種が存在し、以下の2つの基本的なプロセスにより種形成が進むと考える。\n",
    "\n",
    "\n",
    "A. 時間区間$(t, t+dt)$において、$\\sigma dt$の確率で二つの種に分かれる。(Yule process)  \n",
    "B. Aとは別に、$\\gamma dt$の確率で大きさ1のgenusとして新しい種が生まれる。  \n",
    "\n",
    "\n",
    "時刻$t$において種数が$n$である確率を$p_n(t)$と表記する。  \n",
    "\n",
    "$p_1(t)$は時$0～t$の間にBが起こらない確率を表すので、$t$を離散化し$t=n\\Delta t$とおくと、\n",
    "\n",
    "$$p_1(t) =\\lim_{n \\to \\infty}(1-\\sigma \\Delta t)^n \\\\\n",
    "= \\lim_{n \\to \\infty}(1-\\frac{\\sigma t}{n})^n \\\\\n",
    "=\\exp{(-\\sigma t)} \\tag{1.1}$$\n",
    "\n",
    "で表される。\n",
    "\n",
    "時刻$s(0<s<t)$において種の大きさ$n$とし、時間区間$(s, s+ds)$において、$n$種の内の一つが分裂し$n+1$になるケースを考える。  \n",
    "\n",
    "1. 時刻$s$において種数が$n$である確率 :   \n",
    "    $$p_n(t)$$  \n",
    "2. 時刻$s$~$s+ds$で$n$種のうち1つだけ分裂する確率 :   \n",
    "    $${}_nC_{1} \\sigma ds=n\\sigma ds$$  \n",
    "3. $s+ds$~$t$の間で$n+1$種全てが1回も分裂しない確率 :   \n",
    "    $$\\exp(-(t-s))^{(n+1)}=\\exp(-(n+1)(t-s))$$  \n",
    "\n",
    "1×2×3が「時刻$s+ds$までに$n+1$個に分裂して、時刻$t$においても$n+1$個である確率」を表すので、時刻$t$において種数が$n+1$である確率、即ち$p_{n+1}(t)$は、これを$s$に対して$0$~$t$で積分することにより\n",
    "\n",
    "$$p_{n+1}(t)=\\int_0^tdsn\\sigma\\cdot p_n(s)\\cdot e^{-(n+1)\\sigma(t-s)} \\tag{1.2}$$\n",
    "\n",
    "で与えられる。\n",
    "\n",
    "(1.1)、(1.2)より\n",
    "\n",
    "$$p_n(t)=e^{\\sigma t}(1-e^{-\\sigma t})^{n-1}$$"
   ]
  },
  {
   "cell_type": "markdown",
   "metadata": {},
   "source": [
    "---"
   ]
  },
  {
   "cell_type": "markdown",
   "metadata": {},
   "source": [
    "### シミュレーション"
   ]
  },
  {
   "cell_type": "code",
   "execution_count": null,
   "metadata": {},
   "outputs": [],
   "source": []
  }
 ],
 "metadata": {
  "kernelspec": {
   "display_name": "Python 3",
   "language": "python",
   "name": "python3"
  },
  "language_info": {
   "codemirror_mode": {
    "name": "ipython",
    "version": 3
   },
   "file_extension": ".py",
   "mimetype": "text/x-python",
   "name": "python",
   "nbconvert_exporter": "python",
   "pygments_lexer": "ipython3",
   "version": "3.5.0"
  }
 },
 "nbformat": 4,
 "nbformat_minor": 2
}
